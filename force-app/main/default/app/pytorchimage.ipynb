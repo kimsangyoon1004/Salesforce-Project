{
  "cells": [
    {
      "cell_type": "code",
      "execution_count": null,
      "metadata": {
        "id": "RtyYMAevWpI5"
      },
      "outputs": [],
      "source": [
        "from google.colab import drive\n",
        "drive.mount('/content/drive')\n",
        "\n",
        "# 데이터 경로 설정\n",
        "base_dir = \"/content/drive/MyDrive/business_license_dataset\"\n"
      ]
    },
    {
      "cell_type": "code",
      "execution_count": null,
      "metadata": {
        "id": "B9TcBmoPXDxe"
      },
      "outputs": [],
      "source": [
        "pip install transformers datasets torch torchvision\n"
      ]
    },
    {
      "cell_type": "code",
      "execution_count": null,
      "metadata": {
        "id": "hEgPhnooXkWT"
      },
      "outputs": [],
      "source": [
        "import torch\n",
        "import torch.nn as nn\n",
        "import os\n",
        "from PIL import Image\n",
        "from torchvision import transforms\n",
        "from torch.utils.data import DataLoader, Dataset\n",
        "from transformers import ViTForImageClassification\n",
        "from torch.optim import AdamW  # PyTorch 공식 AdamW 사용\n",
        "\n",
        "#  데이터 경로 설정\n",
        "base_dir = \"/content/drive/MyDrive/business_license_dataset\"\n",
        "clear_dir = os.path.join(base_dir, \"clearimage\")\n",
        "blur_dir = os.path.join(base_dir, \"blurrimage\")\n",
        "\n",
        "#  이미지 확장자 필터링 함수\n",
        "def is_image_file(filename):\n",
        "    return filename.lower().endswith(('.png', '.jpg', '.jpeg', '.bmp', '.gif'))\n",
        "\n",
        "#  이미지 파일만 가져오기 (.DS_Store 같은 비이미지 파일 제거)\n",
        "clear_images = [os.path.join(clear_dir, img) for img in os.listdir(clear_dir) if is_image_file(img)]\n",
        "blur_images = [os.path.join(blur_dir, img) for img in os.listdir(blur_dir) if is_image_file(img)]\n",
        "\n",
        "#  이미지 경로 & 라벨 설정 (Blur = 0, Clear = 1)\n",
        "image_paths = clear_images + blur_images\n",
        "labels = [1] * len(clear_images) + [0] * len(blur_images)  # 1 = Clear, 0 = Blur\n",
        "\n",
        "#  데이터 셔플\n",
        "import numpy as np\n",
        "data = list(zip(image_paths, labels))\n",
        "np.random.shuffle(data)\n",
        "image_paths, labels = zip(*data)\n",
        "\n",
        "#  데이터 분할 (80% Train, 20% Validation)\n",
        "split_idx = int(len(image_paths) * 0.8)\n",
        "train_paths, val_paths = image_paths[:split_idx], image_paths[split_idx:]\n",
        "train_labels, val_labels = labels[:split_idx], labels[split_idx:]\n",
        "\n",
        "#  ViT Feature Extractor (이미지 전처리용)\n",
        "from transformers import ViTFeatureExtractor\n",
        "feature_extractor = ViTFeatureExtractor.from_pretrained(\"google/vit-base-patch16-224\")\n",
        "\n",
        "#  이미지 변환 설정\n",
        "transform = transforms.Compose([\n",
        "    transforms.Resize((224, 224)),  # ViT 입력 크기\n",
        "    transforms.ToTensor(),\n",
        "    transforms.Normalize(mean=feature_extractor.image_mean, std=feature_extractor.image_std)\n",
        "])\n",
        "\n",
        "#  이미지 데이터셋 클래스 정의\n",
        "class ImageDataset(Dataset):\n",
        "    def __init__(self, image_paths, labels):\n",
        "        self.image_paths = image_paths\n",
        "        self.labels = labels\n",
        "\n",
        "    def __len__(self):\n",
        "        return len(self.image_paths)\n",
        "\n",
        "    def __getitem__(self, idx):\n",
        "        img_path = self.image_paths[idx]\n",
        "        label = self.labels[idx]\n",
        "\n",
        "        # 이미지 불러오기 및 변환\n",
        "        image = Image.open(img_path).convert(\"RGB\")\n",
        "        image = transform(image)\n",
        "\n",
        "        return image, torch.tensor(label, dtype=torch.long)\n",
        "\n",
        "#  DataLoader 설정\n",
        "train_dataset = ImageDataset(train_paths, train_labels)\n",
        "val_dataset = ImageDataset(val_paths, val_labels)\n",
        "\n",
        "train_loader = DataLoader(train_dataset, batch_size=8, shuffle=True)\n",
        "val_loader = DataLoader(val_dataset, batch_size=8, shuffle=False)\n",
        "\n",
        "#  ViT 모델 로드 (크기 불일치 해결)\n",
        "model = ViTForImageClassification.from_pretrained(\n",
        "    \"google/vit-base-patch16-224\",\n",
        "    num_labels=2,  # Blur vs Clear (2개 클래스)\n",
        "    ignore_mismatched_sizes=True  # 크기 불일치 문제 해결\n",
        ")\n",
        "\n",
        "#  GPU 사용 가능하면 GPU로 이동\n",
        "device = torch.device(\"cuda\" if torch.cuda.is_available() else \"cpu\")\n",
        "model.to(device)\n",
        "\n",
        "#  손실 함수 & 옵티마이저 설정\n",
        "criterion = nn.CrossEntropyLoss()\n",
        "optimizer = AdamW(model.parameters(), lr=3e-5)  # PyTorch 공식 AdamW 사용\n",
        "\n",
        "#  학습 함수\n",
        "def train_model(model, train_loader, val_loader, epochs=5):\n",
        "    for epoch in range(epochs):\n",
        "        model.train()\n",
        "        total_loss, correct = 0, 0\n",
        "\n",
        "        for images, labels in train_loader:\n",
        "            images, labels = images.to(device), labels.to(device)\n",
        "\n",
        "            optimizer.zero_grad()\n",
        "            outputs = model(images).logits  # ViT 출력\n",
        "            loss = criterion(outputs, labels)\n",
        "            loss.backward()\n",
        "            optimizer.step()\n",
        "\n",
        "            total_loss += loss.item()\n",
        "            correct += (outputs.argmax(1) == labels).sum().item()\n",
        "\n",
        "        acc = correct / len(train_loader.dataset)\n",
        "        print(f\"Epoch [{epoch+1}/{epochs}], Loss: {total_loss:.4f}, Train Acc: {acc:.4f}\")\n",
        "\n",
        "        # 📌 검증 단계\n",
        "        model.eval()\n",
        "        correct = 0\n",
        "        with torch.no_grad():\n",
        "            for images, labels in val_loader:\n",
        "                images, labels = images.to(device), labels.to(device)\n",
        "                outputs = model(images).logits\n",
        "                correct += (outputs.argmax(1) == labels).sum().item()\n",
        "\n",
        "        val_acc = correct / len(val_loader.dataset)\n",
        "        print(f\"Validation Accuracy: {val_acc:.4f}\")\n",
        "\n",
        "#  모델 학습 시작 (5 Epoch)\n",
        "train_model(model, train_loader, val_loader, epochs=5)\n"
      ]
    },
    {
      "cell_type": "code",
      "execution_count": null,
      "metadata": {
        "id": "bxn-JOWVcL_T"
      },
      "outputs": [],
      "source": [
        "import torch\n",
        "import torch.nn.functional as F\n",
        "from PIL import Image\n",
        "\n",
        "#  확률까지 출력하는 예측 함수\n",
        "def predict_image(img_path, model):\n",
        "    image = Image.open(img_path).convert(\"RGB\")  # 이미지 로드\n",
        "    image = transform(image).unsqueeze(0).to(device)  # 전처리 + 배치 차원 추가\n",
        "\n",
        "    # 예측 수행\n",
        "    model.eval()\n",
        "    with torch.no_grad():\n",
        "        output = model(image).logits\n",
        "        probabilities = F.softmax(output, dim=1)  # 확률 변환\n",
        "        pred = torch.argmax(probabilities).item()\n",
        "        confidence = probabilities[0, pred].item()  # 예측한 클래스의 확률 값\n",
        "\n",
        "    class_name = \"Clear\" if pred == 1 else \"Blur\"\n",
        "    return class_name, confidence  # 예측된 클래스 + 확률 값 반환\n",
        "\n",
        "#  예측할 이미지 설정\n",
        "test_img_path = \"/content/drive/MyDrive/business_license_dataset/clearimage/clear34.png\"\n",
        "\n",
        "#  예측 실행\n",
        "pred_class, pred_confidence = predict_image(test_img_path, model)\n",
        "print(f\"Prediction: {pred_class} ({pred_confidence * 100:.2f}%)\")\n"
      ]
    },
    {
      "cell_type": "code",
      "execution_count": null,
      "metadata": {
        "id": "CiH_rAtanfD5"
      },
      "outputs": [],
      "source": [
        "# 모델 전체 저장\n",
        "model_save_path = \"/content/drive/MyDrive/blurrcleardistinguishmodelreal.pth\"\n",
        "torch.save(model, model_save_path)\n",
        "print(f\"모델이 저장되었습니다: {model_save_path}\")\n"
      ]
    },
    {
      "cell_type": "code",
      "execution_count": null,
      "metadata": {
        "id": "Dgvx1NhTZ6Pq"
      },
      "outputs": [],
      "source": [
        "import base64\n",
        "\n",
        "with open(\"/content/drive/MyDrive/business_license_dataset/clearimage/clear1.png\", \"rb\") as image_file:\n",
        "    base64_string = base64.b64encode(image_file.read()).decode('utf-8')\n",
        "    print(base64_string)"
      ]
    }
  ],
  "metadata": {
    "colab": {
      "private_outputs": true,
      "provenance": []
    },
    "kernelspec": {
      "display_name": "Python 3",
      "name": "python3"
    },
    "language_info": {
      "name": "python"
    }
  },
  "nbformat": 4,
  "nbformat_minor": 0
}
